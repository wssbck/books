{
 "cells": [
  {
   "cell_type": "code",
   "execution_count": 1,
   "metadata": {},
   "outputs": [
    {
     "data": {
      "text/plain": [
       "'2.0 KiB'"
      ]
     },
     "execution_count": 4,
     "metadata": {},
     "output_type": "execute_result"
    }
   ],
   "source": [
    "SUFFIXES = {1000: ['KB',  'MB',  'GB',  'TB',  'PB',  'EB',  'ZB',  'YB'],\n",
    "            1024: ['KiB', 'MiB', 'GiB', 'TiB', 'PiB', 'EiB', 'ZiB', 'YiB']}\n",
    "\n",
    "# define a function with arguments, one with default value\n",
    "def approximate_size(size, a_kb_is_1024_b=True):\n",
    "    '''Convert a file size to human-readable form.\n",
    "\n",
    "    Keyword arguments:\n",
    "    size -- file size in bytes\n",
    "    a_kilobyte_is_1024_bytes -- if True (default), use multiples of 1024\n",
    "                                if False, use multiples of 1000\n",
    "\n",
    "    Returns: string\n",
    "\n",
    "    '''\n",
    "    if size < 0:\n",
    "        raise ValueError('number must be non-negative')\n",
    "\n",
    "    multiple = 1024 if a_kb_is_1024_b else 1000\n",
    "    for suffix in SUFFIXES[multiple]:\n",
    "        size /= multiple\n",
    "        if size < multiple:\n",
    "            return '{0:.1f} {1}'.format(size, suffix)\n",
    "\n",
    "    raise ValueError('number too large')\n",
    "    \n",
    "approximate_size(2049)\n",
    "    "
   ]
  },
  {
   "cell_type": "code",
   "execution_count": null,
   "metadata": {
    "collapsed": true
   },
   "outputs": [],
   "source": []
  }
 ],
 "metadata": {
  "kernelspec": {
   "display_name": "Python 3",
   "language": "python",
   "name": "python3"
  },
  "language_info": {
   "codemirror_mode": {
    "name": "ipython",
    "version": 3
   },
   "file_extension": ".py",
   "mimetype": "text/x-python",
   "name": "python",
   "nbconvert_exporter": "python",
   "pygments_lexer": "ipython3",
   "version": "3.6.1"
  }
 },
 "nbformat": 4,
 "nbformat_minor": 2
}
